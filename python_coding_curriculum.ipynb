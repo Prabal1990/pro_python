{
 "cells": [
  {
   "cell_type": "markdown",
   "id": "fb53bd81",
   "metadata": {},
   "source": [
    "# Python Coding Muscle Memory Curriculum 🐍\n",
    "\n",
    "**Goal**: Build coding muscle memory through hands-on practice\n",
    "**Focus**: Core Python only, no external libraries\n",
    "**Method**: Write, rewrite, debug, optimize\n",
    "\n",
    "## Progress Tracker\n",
    "- [ ] Level 1: Variables, Data Types, Basic Operations\n",
    "- [ ] Level 2: Loops, Conditionals, Input/Output\n",
    "- [ ] Level 3: Functions and Scope\n",
    "- [ ] Level 4: Lists, Tuples, Sets, Dictionaries\n",
    "- [ ] Level 5: String Manipulation and Regex\n",
    "- [ ] Level 6: File I/O\n",
    "- [ ] Level 7: Exception Handling\n",
    "- [ ] Level 8: Object-Oriented Programming\n",
    "- [ ] Level 9: Recursion and Higher-Order Functions\n",
    "- [ ] Level 10: Generators, Iterators, Decorators\n",
    "- [ ] Level 11: Multithreading and Multiprocessing\n",
    "- [ ] Level 12: Advanced Topics\n",
    "\n",
    "---"
   ]
  },
  {
   "cell_type": "markdown",
   "id": "ecb9b2ba",
   "metadata": {},
   "source": [
    "# Level 1: Variables, Data Types, and Basic Operations\n",
    "\n",
    "**Completion Status**: 🔴 Not Started\n",
    "\n",
    "## Exercise Progress\n",
    "- [ ] 1.1 Micro Task - Student Info\n",
    "- [ ] 1.2 Micro Task - Variable Swap\n",
    "- [ ] 1.3 Micro Task - Circle Area\n",
    "- [ ] 1.4 Medium Challenge - Calculator\n",
    "- [ ] 1.5 Medium Challenge - Temperature Converter\n",
    "- [ ] 1.6 Think Like a Pro - Compound Interest\n",
    "- [ ] 1.7 Debug Challenge - Fix the Bug\n",
    "- [ ] 1.8 Advanced Practice - Leap Year\n",
    "- [ ] 1.9 Advanced Practice - Type Coercion\n",
    "- [ ] 1.10 Advanced Practice - Data Validator"
   ]
  },
  {
   "cell_type": "markdown",
   "id": "d52f6b87",
   "metadata": {},
   "source": [
    "## 🎯 Micro Task 1.1: Student Information\n",
    "\n",
    "**Task**: Create variables for a student's information: name (string), age (integer), grade (float), and is_enrolled (boolean). Print them in a formatted sentence.\n",
    "\n",
    "**Your Code Below**:"
   ]
  },
  {
   "cell_type": "code",
   "execution_count": null,
   "id": "0d188396",
   "metadata": {},
   "outputs": [],
   "source": [
    "# Task 1.1: Student Information\n",
    "# Create variables and print them in a formatted sentence\n",
    "\n",
    "# Your code here:"
   ]
  },
  {
   "cell_type": "markdown",
   "id": "37095979",
   "metadata": {},
   "source": [
    "## 🎯 Micro Task 1.2: Variable Swap\n",
    "\n",
    "**Task**: Write code that swaps the values of two variables without using a third variable.\n",
    "\n",
    "**Your Code Below**:"
   ]
  },
  {
   "cell_type": "code",
   "execution_count": null,
   "id": "56bc98fe",
   "metadata": {},
   "outputs": [],
   "source": [
    "# Task 1.2: Variable Swap\n",
    "# Swap two variables without using a third variable\n",
    "\n",
    "# Your code here:"
   ]
  },
  {
   "cell_type": "markdown",
   "id": "0776265c",
   "metadata": {},
   "source": [
    "## 🎯 Micro Task 1.3: Circle Area\n",
    "\n",
    "**Task**: Calculate the area of a circle given its radius. Store the result in a variable and print it rounded to 2 decimal places.\n",
    "\n",
    "**Your Code Below**:"
   ]
  },
  {
   "cell_type": "code",
   "execution_count": null,
   "id": "4d695ff1",
   "metadata": {},
   "outputs": [],
   "source": [
    "# Task 1.3: Circle Area\n",
    "# Calculate area of a circle and round to 2 decimal places\n",
    "\n",
    "# Your code here:"
   ]
  },
  {
   "cell_type": "markdown",
   "id": "e0e336c5",
   "metadata": {},
   "source": [
    "## 🔥 Medium Challenge 1.4: Simple Calculator\n",
    "\n",
    "**Task**: Create a simple calculator that takes two numbers and performs all basic operations (+, -, *, /, //, %, **). Store results in appropriately named variables.\n",
    "\n",
    "**Your Code Below**:"
   ]
  },
  {
   "cell_type": "code",
   "execution_count": null,
   "id": "16648a20",
   "metadata": {},
   "outputs": [],
   "source": [
    "# Challenge 1.4: Simple Calculator\n",
    "# Perform all basic operations on two numbers\n",
    "\n",
    "# Your code here:"
   ]
  },
  {
   "cell_type": "markdown",
   "id": "b0d1d775",
   "metadata": {},
   "source": [
    "## 🔥 Medium Challenge 1.5: Temperature Converter\n",
    "\n",
    "**Task**: Write code that converts temperature between Celsius and Fahrenheit. Take a temperature value and convert it both ways.\n",
    "\n",
    "**Your Code Below**:"
   ]
  },
  {
   "cell_type": "code",
   "execution_count": null,
   "id": "94218971",
   "metadata": {},
   "outputs": [],
   "source": [
    "# Challenge 1.5: Temperature Converter\n",
    "# Convert between Celsius and Fahrenheit\n",
    "\n",
    "# Your code here:"
   ]
  },
  {
   "cell_type": "markdown",
   "id": "cb68dc89",
   "metadata": {},
   "source": [
    "## 🧠 Think Like a Pro 1.6: Compound Interest\n",
    "\n",
    "**Task**: Create a program that calculates compound interest. Given principal, rate, time, and compounding frequency, calculate the final amount and interest earned. Handle edge cases where any input might be zero or negative.\n",
    "\n",
    "**Formula**: A = P(1 + r/n)^(nt)\n",
    "- A = final amount\n",
    "- P = principal\n",
    "- r = annual interest rate\n",
    "- n = compounding frequency\n",
    "- t = time in years\n",
    "\n",
    "**Your Code Below**:"
   ]
  },
  {
   "cell_type": "code",
   "execution_count": null,
   "id": "eb046880",
   "metadata": {},
   "outputs": [],
   "source": [
    "# Think Like a Pro 1.6: Compound Interest Calculator\n",
    "# Calculate compound interest with edge case handling\n",
    "\n",
    "# Your code here:"
   ]
  },
  {
   "cell_type": "markdown",
   "id": "2a857931",
   "metadata": {},
   "source": [
    "## 🐛 Debug Challenge 1.7: Fix the Bug\n",
    "\n",
    "**Task**: The code below has a bug. Find it and fix it!\n",
    "\n",
    "**Your Fixed Code Below**:"
   ]
  },
  {
   "cell_type": "code",
   "execution_count": null,
   "id": "5a7e764c",
   "metadata": {},
   "outputs": [],
   "source": [
    "# Debug Challenge 1.7: Fix the Bug\n",
    "# This code has a bug - find and fix it\n",
    "\n",
    "principal = \"5000\"\n",
    "rate = 0.05\n",
    "time = 3\n",
    "amount = principal * (1 + rate) ** time\n",
    "print(f\"Final amount: ${amount}\")\n",
    "\n",
    "# Fixed code here:"
   ]
  },
  {
   "cell_type": "markdown",
   "id": "b213c10f",
   "metadata": {},
   "source": [
    "## 🚀 Advanced Practice 1.8: Leap Year Check\n",
    "\n",
    "**Task**: Write a program that determines if a year is a leap year using only basic operations and boolean logic (no if statements yet).\n",
    "\n",
    "**Leap Year Rules**: \n",
    "- Divisible by 4 AND (not divisible by 100 OR divisible by 400)\n",
    "\n",
    "**Your Code Below**:"
   ]
  },
  {
   "cell_type": "code",
   "execution_count": null,
   "id": "9fa0f6b2",
   "metadata": {},
   "outputs": [],
   "source": [
    "# Advanced Practice 1.8: Leap Year Check\n",
    "# Determine leap year using only boolean logic\n",
    "\n",
    "# Your code here:"
   ]
  },
  {
   "cell_type": "markdown",
   "id": "4f333934",
   "metadata": {},
   "source": [
    "## 🚀 Advanced Practice 1.9: Type Coercion Demo\n",
    "\n",
    "**Task**: Create variables that demonstrate type coercion in Python. Show at least 5 different automatic and explicit type conversions.\n",
    "\n",
    "**Your Code Below**:"
   ]
  },
  {
   "cell_type": "code",
   "execution_count": null,
   "id": "da3fd46b",
   "metadata": {},
   "outputs": [],
   "source": [
    "# Advanced Practice 1.9: Type Coercion Demo\n",
    "# Demonstrate automatic and explicit type conversions\n",
    "\n",
    "# Your code here:"
   ]
  },
  {
   "cell_type": "markdown",
   "id": "115a5250",
   "metadata": {},
   "source": [
    "## 🚀 Advanced Practice 1.10: Data Validator\n",
    "\n",
    "**Task**: Build a simple \"data validator\" that checks if various inputs match expected types using isinstance() and type() functions.\n",
    "\n",
    "**Your Code Below**:"
   ]
  },
  {
   "cell_type": "code",
   "execution_count": null,
   "id": "548593ce",
   "metadata": {},
   "outputs": [],
   "source": [
    "# Advanced Practice 1.10: Data Validator\n",
    "# Check if inputs match expected types\n",
    "\n",
    "# Your code here:"
   ]
  },
  {
   "cell_type": "markdown",
   "id": "b7f323f9",
   "metadata": {},
   "source": [
    "## 📝 Level 1 Reflection\n",
    "\n",
    "After completing all exercises, answer these questions:\n",
    "\n",
    "1. **Which exercise was most challenging and why?**\n",
    "\n",
    "2. **What did you learn about Python data types that you didn't know before?**\n",
    "\n",
    "3. **How comfortable are you with variable naming conventions?**\n",
    "\n",
    "4. **Ready for Level 2 (Loops, Conditionals, Input/Output)?**\n",
    "\n",
    "---\n",
    "\n",
    "**Next**: When you're ready, I'll create Level 2 exercises focusing on control flow and user interaction!"
   ]
  }
 ],
 "metadata": {
  "language_info": {
   "name": "python"
  }
 },
 "nbformat": 4,
 "nbformat_minor": 5
}
