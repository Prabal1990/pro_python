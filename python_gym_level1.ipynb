{
 "cells": [
  {
   "cell_type": "code",
   "execution_count": null,
   "id": "662524b9",
   "metadata": {},
   "outputs": [],
   "source": [
    "# This cell sets smaller font size for markdown in the notebook\n",
    "from IPython.display import display, HTML\n",
    "display(HTML(\"<style>div.text_cell_render, .jp-RenderedHTMLCommon {font-size: 14px !important;} </style>\"))"
   ]
  },
  {
   "cell_type": "markdown",
   "id": "5da5c7e7",
   "metadata": {},
   "source": [
    "# Python Gym: Level 1 – Fundamentals 🏋️‍♂️\n",
    "\n",
    "Welcome to your Python muscle memory gym!\n",
    "\n",
    "**Goal:** Build core Python skills for interviews through hands-on workouts.\n",
    "\n",
    "**How it works:**\n",
    "- Each problem is a set, tagged by difficulty.\n",
    "- Write, debug, and optimize your code.\n",
    "- If you solve quickly, I'll increase the challenge. If you get stuck, we'll repeat and reinforce.\n",
    "- No answers unless you ask!\n",
    "\n",
    "---"
   ]
  },
  {
   "cell_type": "markdown",
   "id": "9e7a1c0f",
   "metadata": {},
   "source": [
    "## Python Interview Gym: Topic-wise Sets\n",
    "\n",
    "Welcome to your expanded Python gym! Problems are grouped by topic for maximum interview prep and muscle memory.\n",
    "\n",
    "---"
   ]
  },
  {
   "cell_type": "markdown",
   "id": "092e5875",
   "metadata": {},
   "source": [
    "### Variables & Data Types\n",
    "\n",
    "#### 1. Assign and Print (Easy)\n",
    "Create a variable `x` and assign it the value 10. Print `x`.\n",
    "\n",
    "#### 2. Swap Two Variables (Easy)\n",
    "Given `a = 5` and `b = 7`, swap their values and print both.\n",
    "\n",
    "#### 3. Multiple Assignment (Easy)\n",
    "Assign values 1, 2, 3 to variables `a`, `b`, `c` in one line. Print all three.\n",
    "\n",
    "#### 4. Type Checking (Easy)\n",
    "Given `val = '42'`, print its type, then convert it to an integer and print its type again.\n",
    "\n",
    "#### 5. Float Precision (Easy)\n",
    "Assign `pi = 3.1415926535`. Print `pi` rounded to 2 decimal places.\n",
    "\n",
    "#### 6. Boolean Logic (Easy)\n",
    "Set `flag = True`. Print 'Yes' if `flag` is True, else print 'No'.\n",
    "\n",
    "#### 7. Implicit Conversion (Easy)\n",
    "Add integer 5 and float 2.5. Print the result and its type.\n",
    "\n",
    "#### 8. Complex Numbers (Medium)\n",
    "Create a complex number `z = 3 + 4j`. Print its real and imaginary parts.\n",
    "\n",
    "#### 9. Constants Convention (Easy)\n",
    "Assign a value to a variable named `MAX_SIZE` and print it. (Python convention for constants)\n",
    "\n",
    "#### 10. Variable Deletion (Easy)\n",
    "Create a variable, delete it, and try to print it (expect an error)."
   ]
  },
  {
   "cell_type": "code",
   "execution_count": null,
   "id": "b4a8dc8e",
   "metadata": {},
   "outputs": [],
   "source": [
    "# 1. Assign and Print\n",
    "# Your code here"
   ]
  },
  {
   "cell_type": "code",
   "execution_count": null,
   "id": "e5ad6adc",
   "metadata": {},
   "outputs": [],
   "source": [
    "# 2. Swap Two Variables\n",
    "# Your code here"
   ]
  },
  {
   "cell_type": "code",
   "execution_count": null,
   "id": "80e3c65e",
   "metadata": {},
   "outputs": [],
   "source": [
    "# 3. Multiple Assignment\n",
    "# Your code here"
   ]
  },
  {
   "cell_type": "code",
   "execution_count": null,
   "id": "153a0358",
   "metadata": {},
   "outputs": [],
   "source": [
    "# 4. Type Checking\n",
    "# Your code here"
   ]
  },
  {
   "cell_type": "code",
   "execution_count": null,
   "id": "1b13cb42",
   "metadata": {},
   "outputs": [],
   "source": [
    "# 5. Float Precision\n",
    "# Your code here"
   ]
  },
  {
   "cell_type": "code",
   "execution_count": null,
   "id": "1ffd0faf",
   "metadata": {},
   "outputs": [],
   "source": [
    "# 6. Boolean Logic\n",
    "# Your code here"
   ]
  },
  {
   "cell_type": "code",
   "execution_count": null,
   "id": "8f6122e4",
   "metadata": {},
   "outputs": [],
   "source": [
    "# 7. Implicit Conversion\n",
    "# Your code here"
   ]
  },
  {
   "cell_type": "code",
   "execution_count": null,
   "id": "88935218",
   "metadata": {},
   "outputs": [],
   "source": [
    "# 8. Complex Numbers\n",
    "# Your code here"
   ]
  },
  {
   "cell_type": "code",
   "execution_count": null,
   "id": "feca1d1f",
   "metadata": {},
   "outputs": [],
   "source": [
    "# 9. Constants Convention\n",
    "# Your code here"
   ]
  },
  {
   "cell_type": "code",
   "execution_count": null,
   "id": "ab4b8aa5",
   "metadata": {},
   "outputs": [],
   "source": [
    "# 10. Variable Deletion\n",
    "# Your code here"
   ]
  },
  {
   "cell_type": "markdown",
   "id": "308e4466",
   "metadata": {},
   "source": [
    "#### 1. Print Your Details (Easy)\n",
    "**Task:** Create three variables: \n",
    "- `name` (string): Your full name\n",
    "- `age` (integer): Your age in years\n",
    "- `favorite_language` (string): Your favorite programming language\n",
    "\n",
    "**Instructions:**\n",
    "1. Assign your actual name to the `name` variable as a string (e.g., 'Prabal Sharma').\n",
    "2. Assign your age as an integer to the `age` variable (e.g., 25).\n",
    "3. Assign your favorite programming language as a string to the `favorite_language` variable (e.g., 'Python').\n",
    "4. Print a single formatted sentence using all three variables, such as: 'My name is Prabal Sharma, I am 25 years old, and my favorite programming language is Python.'\n",
    "5. Use an f-string for formatting your output.\n",
    "\n",
    "**Example Output:**\n",
    "My name is Prabal Sharma, I am 25 years old, and my favorite programming language is Python."
   ]
  },
  {
   "cell_type": "code",
   "execution_count": null,
   "id": "dd95b084",
   "metadata": {},
   "outputs": [],
   "source": [
    "# Problem 1: Print Your Details\n",
    "# Your code here"
   ]
  },
  {
   "cell_type": "markdown",
   "id": "6b0903b8",
   "metadata": {},
   "source": [
    "#### 2. Simple Math (Easy)\n",
    "**Task:** Perform basic arithmetic operations on two numbers.\n",
    "\n",
    "**Instructions:**\n",
    "1. Create two variables: `a` and `b` (assign any two integer values, e.g., 12 and 5).\n",
    "2. Calculate and store their sum, difference, product, and quotient (floating point division) in variables named `sum_result`, `diff_result`, `prod_result`, and `quot_result`.\n",
    "3. Print each result on a separate line, clearly labeled (e.g., 'Sum: 17').\n",
    "4. Use f-strings for formatting your output.\n",
    "\n",
    "**Example Output:**\n",
    "Sum: 17\n",
    "Difference: 7\n",
    "Product: 60\n",
    "Quotient: 2.4"
   ]
  },
  {
   "cell_type": "code",
   "execution_count": null,
   "id": "f91e0906",
   "metadata": {},
   "outputs": [],
   "source": [
    "# Problem 2: Simple Math\n",
    "# Your code here"
   ]
  },
  {
   "cell_type": "markdown",
   "id": "7c4f9ec6",
   "metadata": {},
   "source": [
    "#### 3. Even or Odd? (Easy)\n",
    "**Task:** Check if a number is even or odd.\n",
    "\n",
    "**Instructions:**\n",
    "1. Create a variable `num` and assign it any integer value (e.g., 42).\n",
    "2. Use the modulo operator (%) to determine if the number is even or odd.\n",
    "3. Print '42 is even.' or '43 is odd.' (replace 42/43 with your number) using an f-string.\n",
    "\n",
    "**Example Output:**\n",
    "42 is even."
   ]
  },
  {
   "cell_type": "code",
   "execution_count": null,
   "id": "0f64b97c",
   "metadata": {},
   "outputs": [],
   "source": [
    "# Problem 3: Even or Odd?\n",
    "# Your code here"
   ]
  },
  {
   "cell_type": "markdown",
   "id": "0bb7a3bc",
   "metadata": {},
   "source": [
    "#### 4. Loop the Loop (Easy)\n",
    "**Task:** Print numbers from 1 to 10 using a loop.\n",
    "\n",
    "**Instructions:**\n",
    "1. Use a `for` loop to iterate from 1 to 10 (inclusive).\n",
    "2. Print each number on the same line, separated by a space (use `end=' '` in the print function).\n",
    "3. After the loop, print a newline character to finish the output.\n",
    "\n",
    "**Example Output:**\n",
    "1 2 3 4 5 6 7 8 9 10"
   ]
  },
  {
   "cell_type": "code",
   "execution_count": null,
   "id": "3c4aa1fd",
   "metadata": {},
   "outputs": [],
   "source": [
    "# Problem 4: Loop the Loop\n",
    "# Your code here"
   ]
  },
  {
   "cell_type": "markdown",
   "id": "6685f5d8",
   "metadata": {},
   "source": [
    "#### 5. Sum of Multiples (Medium)\n",
    "**Task:** Calculate the sum of all numbers below 100 that are multiples of 3 or 5.\n",
    "\n",
    "**Instructions:**\n",
    "1. Use a loop (for or while) to check every number from 1 up to (but not including) 100.\n",
    "2. If a number is divisible by 3 or 5, add it to a running total (use a variable named `total`).\n",
    "3. After the loop, print the final value of `total` with a clear label (e.g., 'Sum of multiples of 3 or 5 below 100: 2318').\n",
    "\n",
    "**Example Output:**\n",
    "Sum of multiples of 3 or 5 below 100: 2318"
   ]
  },
  {
   "cell_type": "code",
   "execution_count": null,
   "id": "484abf61",
   "metadata": {},
   "outputs": [],
   "source": [
    "# Problem 5: Sum of Multiples\n",
    "# Your code here"
   ]
  },
  {
   "cell_type": "markdown",
   "id": "caff6df6",
   "metadata": {},
   "source": [
    "#### 6. Insert Element Without Built-in Methods (Medium)\n",
    "**Task:** Insert an element into a list at a given position, without using any built-in methods like insert().\n",
    "\n",
    "**Instructions:**\n",
    "1. Given a list, an element, and a position, create a new list with the element inserted at the specified position.\n",
    "2. Do not use any built-in list methods like insert(), append(), or slicing.\n",
    "3. Print the new list.\n",
    "\n",
    "**Example Input:**\n",
    "my_list = [1, 2, 4, 5]\n",
    "element = 3\n",
    "position = 2\n",
    "\n",
    "**Example Output:**\n",
    "[1, 2, 3, 4, 5]"
   ]
  },
  {
   "cell_type": "code",
   "execution_count": null,
   "id": "da376fe3",
   "metadata": {},
   "outputs": [],
   "source": [
    "# Problem 6: Insert Element Without Built-in Methods\n",
    "# Your code here"
   ]
  }
 ],
 "metadata": {
  "kernelspec": {
   "display_name": "env",
   "language": "python",
   "name": "python3"
  },
  "language_info": {
   "codemirror_mode": {
    "name": "ipython",
    "version": 3
   },
   "file_extension": ".py",
   "mimetype": "text/x-python",
   "name": "python",
   "nbconvert_exporter": "python",
   "pygments_lexer": "ipython3",
   "version": "3.11.5"
  }
 },
 "nbformat": 4,
 "nbformat_minor": 5
}
